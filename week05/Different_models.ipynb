{
 "cells": [
  {
   "cell_type": "code",
   "execution_count": 1,
   "metadata": {
    "executionInfo": {
     "elapsed": 696,
     "status": "ok",
     "timestamp": 1632317671463,
     "user": {
      "displayName": "иван иванов",
      "photoUrl": "https://lh3.googleusercontent.com/a/default-user=s64",
      "userId": "02926776193083975428"
     },
     "user_tz": -180
    },
    "id": "feeB7xwujYag"
   },
   "outputs": [],
   "source": [
    "import torch\n",
    "import torch.nn as nn\n",
    "import torchvision.transforms as transforms\n",
    "import torchvision.datasets as dsets\n",
    "from torch.autograd import Variable\n",
    "from torch.utils.data import DataLoader\n",
    "\n",
    "# Set seed\n",
    "torch.manual_seed(0)\n",
    "\n",
    "# Scheduler import\n",
    "from torch.optim.lr_scheduler import StepLR\n",
    "import matplotlib.pyplot as plt\n",
    "import numpy as np\n",
    "%matplotlib inline"
   ]
  },
  {
   "cell_type": "code",
   "execution_count": 2,
   "metadata": {
    "colab": {
     "base_uri": "https://localhost:8080/"
    },
    "executionInfo": {
     "elapsed": 29,
     "status": "ok",
     "timestamp": 1632317671464,
     "user": {
      "displayName": "иван иванов",
      "photoUrl": "https://lh3.googleusercontent.com/a/default-user=s64",
      "userId": "02926776193083975428"
     },
     "user_tz": -180
    },
    "id": "QZzo8z_qjv16",
    "outputId": "10cd76e1-8f1e-40f5-c764-75ebb1f9971e"
   },
   "outputs": [],
   "source": [
    "'''\n",
    "STEP 1: LOADING DATASET\n",
    "'''\n",
    "# Картинки 28 * 28\n",
    "train_dataset = dsets.MNIST(root='./data', \n",
    "                            train=True, \n",
    "                            transform=transforms.ToTensor(),\n",
    "                            download=True)\n",
    "\n",
    "test_dataset = dsets.MNIST(root='./data', \n",
    "                           train=False, \n",
    "                           transform=transforms.ToTensor())\n",
    "class_names = train_dataset.classes # забираем метки классов"
   ]
  },
  {
   "cell_type": "code",
   "execution_count": 4,
   "metadata": {},
   "outputs": [
    {
     "data": {
      "image/png": "[encoded data removed]",
      "text/plain": [
       "<Figure size 1152x360 with 16 Axes>"
      ]
     },
     "metadata": {},
     "output_type": "display_data"
    }
   ],
   "source": [
    "# отрисуем все что у нас есть\n",
    "cols = 8\n",
    "rows = 2\n",
    "fig = plt.figure(figsize=(2 * cols, 2.5 * rows))\n",
    "for i in range(cols):\n",
    "    for j in range(rows):\n",
    "        random_index = np.random.randint(0, len(train_dataset))\n",
    "        ax = fig.add_subplot(rows, cols, i * rows + j + 1)\n",
    "        ax.grid(False)\n",
    "        ax.set_xticks([])\n",
    "        ax.set_yticks([])\n",
    "        ax.imshow(train_dataset[random_index][0][0])\n",
    "        ax.set_xlabel(class_names[train_dataset[random_index][1]])\n",
    "plt.show()"
   ]
  },
  {
   "cell_type": "code",
   "execution_count": 23,
   "metadata": {},
   "outputs": [],
   "source": [
    "batch_size = 784\n",
    "num_epochs = 10"
   ]
  },
  {
   "cell_type": "code",
   "execution_count": 12,
   "metadata": {
    "executionInfo": {
     "elapsed": 28,
     "status": "ok",
     "timestamp": 1632317671465,
     "user": {
      "displayName": "иван иванов",
      "photoUrl": "https://lh3.googleusercontent.com/a/default-user=s64",
      "userId": "02926776193083975428"
     },
     "user_tz": -180
    },
    "id": "NlUkSjwrjzWJ"
   },
   "outputs": [],
   "source": [
    "'''\n",
    "STEP 2: MAKING DATASET ITERABLE\n",
    "'''\n",
    "\n",
    "#.....#\n",
    "\n",
    "train_loader = DataLoader(train_dataset, batch_size=batch_size, shuffle=True)\n",
    "\n",
    "test_loader = DataLoader(test_dataset, batch_size=batch_size, shuffle=False)"
   ]
  },
  {
   "cell_type": "code",
   "execution_count": null,
   "metadata": {},
   "outputs": [],
   "source": [
    "# multi-class classification\n",
    "# "
   ]
  },
  {
   "cell_type": "code",
   "execution_count": 19,
   "metadata": {
    "executionInfo": {
     "elapsed": 22,
     "status": "ok",
     "timestamp": 1632317672312,
     "user": {
      "displayName": "иван иванов",
      "photoUrl": "https://lh3.googleusercontent.com/a/default-user=s64",
      "userId": "02926776193083975428"
     },
     "user_tz": -180
    },
    "id": "VMoQXscbj1jV"
   },
   "outputs": [],
   "source": [
    "'''\n",
    "STEP 3: CREATE MODEL CLASS\n",
    "'''\n",
    "# Давайте прикинем какую архитектуру нам было бы неплохо сделать для данных\n",
    "# и соберем сам класс модельки\n",
    "\n",
    "class FeedforwardNeuralNetModel(nn.Module):\n",
    "    \n",
    "    def __init__(self, input_size, hidden_size, output_size: int = 10):\n",
    "        \n",
    "        super(FeedforwardNeuralNetModel, self).__init__()\n",
    "        \n",
    "        self.linear1 = nn.Linear(in_features=input_size, out_features=hidden_size)\n",
    "        \n",
    "        self.activation = nn.LeakyReLU(negative_slope=0.01)\n",
    "        \n",
    "        self.batch_norm = nn.BatchNorm1d(num_features=hidden_size)\n",
    "        \n",
    "        self.linear2 = nn.Linear(in_features=hidden_size, out_features=hidden_size)\n",
    "        \n",
    "        self.dropout = nn.Dropout(p=0.2)\n",
    "        \n",
    "        self.linear3 = nn.Linear(in_features=hidden_size, out_features=output_size)\n",
    "        \n",
    "        nn.init.kaiming_normal_(self.linear1.weight)\n",
    "        nn.init.kaiming_normal_(self.linear2.weight)\n",
    "        nn.init.kaiming_normal_(self.linear3.weight)\n",
    "    \n",
    "    def forward(self, x):\n",
    "        \n",
    "        out = self.linear1(x)\n",
    "        out = self.activation(out)\n",
    "        \n",
    "        out = self.batch_norm(out)\n",
    "        \n",
    "        out = self.linear2(out)\n",
    "        out = self.activation(out)\n",
    "        \n",
    "        out = self.dropout(out)\n",
    "        \n",
    "        out = self.linear3(out)\n",
    "        \n",
    "        return out\n"
   ]
  },
  {
   "cell_type": "code",
   "execution_count": 20,
   "metadata": {
    "executionInfo": {
     "elapsed": 21,
     "status": "ok",
     "timestamp": 1632317672313,
     "user": {
      "displayName": "иван иванов",
      "photoUrl": "https://lh3.googleusercontent.com/a/default-user=s64",
      "userId": "02926776193083975428"
     },
     "user_tz": -180
    },
    "id": "Ui7hsuHHj3vk"
   },
   "outputs": [],
   "source": [
    "'''\n",
    "STEP 4: INSTANTIATE BASE PARAMETERS\n",
    "'''\n",
    "\n",
    "model = FeedforwardNeuralNetModel(784, 256, 10)"
   ]
  },
  {
   "cell_type": "code",
   "execution_count": 21,
   "metadata": {
    "executionInfo": {
     "elapsed": 20,
     "status": "ok",
     "timestamp": 1632317672313,
     "user": {
      "displayName": "иван иванов",
      "photoUrl": "https://lh3.googleusercontent.com/a/default-user=s64",
      "userId": "02926776193083975428"
     },
     "user_tz": -180
    },
    "id": "0EsRaDJXj5ww"
   },
   "outputs": [],
   "source": [
    "'''\n",
    "STEP 5: INSTANTIATE LOSS CLASS\n",
    "'''\n",
    "\n",
    "criterion = nn.CrossEntropyLoss()"
   ]
  },
  {
   "cell_type": "code",
   "execution_count": 22,
   "metadata": {
    "executionInfo": {
     "elapsed": 20,
     "status": "ok",
     "timestamp": 1632317672314,
     "user": {
      "displayName": "иван иванов",
      "photoUrl": "https://lh3.googleusercontent.com/a/default-user=s64",
      "userId": "02926776193083975428"
     },
     "user_tz": -180
    },
    "id": "SZBW9VhAj5zb"
   },
   "outputs": [],
   "source": [
    "'''\n",
    "STEP 6: INSTANTIATE OPTIMIZER CLASS\n",
    "'''\n",
    "learning_rate = 0.005\n",
    "\n",
    "optimizer = torch.optim.Adam(model.parameters(), lr=learning_rate)"
   ]
  },
  {
   "cell_type": "code",
   "execution_count": 25,
   "metadata": {
    "executionInfo": {
     "elapsed": 19,
     "status": "ok",
     "timestamp": 1632317672315,
     "user": {
      "displayName": "иван иванов",
      "photoUrl": "https://lh3.googleusercontent.com/a/default-user=s64",
      "userId": "02926776193083975428"
     },
     "user_tz": -180
    },
    "id": "Z0kbBY_IjgOJ",
    "scrolled": true
   },
   "outputs": [
    {
     "name": "stdout",
     "output_type": "stream",
     "text": [
      "EPOCH = 0, TEST_ACCURACY = 0.97\n",
      "EPOCH = 1, TEST_ACCURACY = 0.9767\n",
      "EPOCH = 2, TEST_ACCURACY = 0.9759\n",
      "EPOCH = 3, TEST_ACCURACY = 0.9763\n",
      "EPOCH = 4, TEST_ACCURACY = 0.9749\n",
      "EPOCH = 5, TEST_ACCURACY = 0.9766\n",
      "EPOCH = 6, TEST_ACCURACY = 0.9742\n",
      "EPOCH = 7, TEST_ACCURACY = 0.9748\n",
      "EPOCH = 8, TEST_ACCURACY = 0.9763\n",
      "EPOCH = 9, TEST_ACCURACY = 0.9797\n"
     ]
    }
   ],
   "source": [
    "'''\n",
    "STEP 7: TRAIN THE MODEL\n",
    "'''\n",
    "\n",
    "for epoch in range(num_epochs):\n",
    "    \n",
    "    model.train()\n",
    "    for data, labels in train_loader:\n",
    "        \n",
    "        data = data.view(-1, 28*28)\n",
    "        \n",
    "        optimizer.zero_grad()\n",
    "        \n",
    "        result = model(data)\n",
    "        \n",
    "        loss = criterion(result, labels)\n",
    "        \n",
    "        loss.backward()\n",
    "        \n",
    "        optimizer.step()\n",
    "    \n",
    "    torch.save(model, 'model.file')\n",
    "    model.eval()\n",
    "    correct = 0\n",
    "    total = 0\n",
    "    for data, labels in test_loader:\n",
    "        \n",
    "        data = data.view(-1, 28*28)\n",
    "        \n",
    "        result = model(data)\n",
    "        \n",
    "        result_labels = torch.argmax(result, dim=1)\n",
    "        \n",
    "        correct += (result_labels == labels).sum().item()\n",
    "        total += labels.size(0)\n",
    "        \n",
    "    print(f'EPOCH = {epoch}, TEST_ACCURACY = {correct / total}')"
   ]
  },
  {
   "cell_type": "code",
   "execution_count": 38,
   "metadata": {},
   "outputs": [
    {
     "data": {
      "text/plain": [
       "Parameter containing:\n",
       "tensor([[ 0.0005, -0.0348, -0.0899,  ..., -0.0787, -0.0218, -0.0891],\n",
       "        [-0.0427, -0.0158,  0.0697,  ..., -0.0340,  0.0084, -0.0307],\n",
       "        [-0.0242, -0.0133, -0.0332,  ...,  0.0164, -0.0158,  0.0603],\n",
       "        ...,\n",
       "        [-0.1109,  0.0291, -0.1443,  ..., -0.0316,  0.0323,  0.1054],\n",
       "        [ 0.0021,  0.0330, -0.0359,  ...,  0.0417, -0.0111, -0.0216],\n",
       "        [-0.0259,  0.1124,  0.0695,  ..., -0.0058,  0.0833, -0.0611]],\n",
       "       requires_grad=True)"
      ]
     },
     "execution_count": 38,
     "metadata": {},
     "output_type": "execute_result"
    }
   ],
   "source": [
    "model.linear1.weight"
   ]
  },
  {
   "cell_type": "markdown",
   "metadata": {
    "id": "Ob0e_jsnpKzy"
   },
   "source": [
    "## Рубрика эксперименты"
   ]
  },
  {
   "cell_type": "code",
   "execution_count": null,
   "metadata": {
    "colab": {
     "base_uri": "https://localhost:8080/"
    },
    "executionInfo": {
     "elapsed": 31740,
     "status": "ok",
     "timestamp": 1632317704037,
     "user": {
      "displayName": "иван иванов",
      "photoUrl": "https://lh3.googleusercontent.com/a/default-user=s64",
      "userId": "02926776193083975428"
     },
     "user_tz": -180
    },
    "id": "evQsgeH9sw2u",
    "outputId": "2e4e71fc-af99-4b28-94b0-220a50ef6256"
   },
   "outputs": [],
   "source": [
    "# наша базовая моделька"
   ]
  },
  {
   "cell_type": "code",
   "execution_count": null,
   "metadata": {},
   "outputs": [],
   "source": [
    "# А что будет если не нормировать данные?"
   ]
  },
  {
   "cell_type": "code",
   "execution_count": null,
   "metadata": {},
   "outputs": [],
   "source": [
    "# А теперь давайте сделаем 6ти слойного монстра по 100 нейронов в каждом слое и в каждом слое по sigmoid"
   ]
  },
  {
   "cell_type": "markdown",
   "metadata": {},
   "source": [
    " ## Игрища с иницализацией "
   ]
  },
  {
   "cell_type": "code",
   "execution_count": null,
   "metadata": {},
   "outputs": [],
   "source": [
    "# предлагаю дома посмотреть на результаты подобных игрищ"
   ]
  },
  {
   "cell_type": "markdown",
   "metadata": {
    "id": "JjFwvc0bpPP2"
   },
   "source": [
    "## Sigmoid + Xavier\n"
   ]
  },
  {
   "cell_type": "markdown",
   "metadata": {
    "id": "eEAo35ujpJLA"
   },
   "source": [
    "## Tanh + Xavier\n"
   ]
  },
  {
   "cell_type": "markdown",
   "metadata": {
    "id": "Lwd-6YU-o_GF"
   },
   "source": [
    "## ReLU + He\n"
   ]
  },
  {
   "cell_type": "markdown",
   "metadata": {
    "id": "QPXZvg9ko_dg"
   },
   "source": [
    "## Sigmoid + He\n"
   ]
  },
  {
   "cell_type": "markdown",
   "metadata": {
    "id": "_8vADfkdo_1c"
   },
   "source": [
    "## Tanh + He\n"
   ]
  },
  {
   "cell_type": "markdown",
   "metadata": {
    "id": "D3YnfPv9uIuJ"
   },
   "source": [
    "[Можно почитать про инициализацию](https://www.deeplearningwizard.com/deep_learning/boosting_models_pytorch/weight_initialization_activation_functions/)"
   ]
  },
  {
   "cell_type": "code",
   "execution_count": null,
   "metadata": {
    "id": "46Rhw8wjuQJc"
   },
   "outputs": [],
   "source": []
  }
 ],
 "metadata": {
  "colab": {
   "authorship_tag": "ABX9TyNW2exhyEfSZKrvqOLoJ/Ed",
   "collapsed_sections": [],
   "name": "Weight_initialization.ipynb",
   "provenance": []
  },
  "kernelspec": {
   "display_name": "Python 3",
   "language": "python",
   "name": "python3"
  },
  "language_info": {
   "codemirror_mode": {
    "name": "ipython",
    "version": 3
   },
   "file_extension": ".py",
   "mimetype": "text/x-python",
   "name": "python",
   "nbconvert_exporter": "python",
   "pygments_lexer": "ipython3",
   "version": "3.8.8"
  }
 },
 "nbformat": 4,
 "nbformat_minor": 1
}
