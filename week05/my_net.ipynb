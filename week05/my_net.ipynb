{
 "cells": [
  {
   "cell_type": "code",
   "execution_count": 1,
   "id": "31cd3e77",
   "metadata": {},
   "outputs": [],
   "source": [
    "import torch\n",
    "import torch.nn as nn\n",
    "import torchvision.transforms as transforms\n",
    "import torchvision.datasets as dsets\n",
    "from torch.autograd import Variable\n",
    "from torch.utils.data import DataLoader\n",
    "\n",
    "# Set seed\n",
    "torch.manual_seed(0)\n",
    "\n",
    "# Scheduler import\n",
    "from torch.optim.lr_scheduler import StepLR\n",
    "import matplotlib.pyplot as plt\n",
    "import numpy as np\n",
    "%matplotlib inline"
   ]
  },
  {
   "cell_type": "code",
   "execution_count": 2,
   "id": "4e001ebf",
   "metadata": {},
   "outputs": [],
   "source": [
    "import warnings         # чтобы никто не мешал бесчинствам с кодом\n",
    "warnings.filterwarnings(\"ignore\")"
   ]
  },
  {
   "cell_type": "code",
   "execution_count": 3,
   "id": "c2666477",
   "metadata": {},
   "outputs": [],
   "source": [
    "'''\n",
    "STEP 1: LOADING DATASET\n",
    "'''\n",
    "# Картинки 28 * 28\n",
    "train_dataset = dsets.MNIST(root='./data', \n",
    "                            train=True, \n",
    "                            transform=transforms.ToTensor(),\n",
    "                            download=True)\n",
    "\n",
    "test_dataset = dsets.MNIST(root='./data', \n",
    "                           train=False, \n",
    "                           transform=transforms.ToTensor())\n",
    "class_names = train_dataset.classes # забираем метки классов"
   ]
  },
  {
   "cell_type": "code",
   "execution_count": 4,
   "id": "9fd096de",
   "metadata": {},
   "outputs": [
    {
     "data": {
      "image/png": "[encoded data removed]",
      "text/plain": [
       "<Figure size 1152x360 with 16 Axes>"
      ]
     },
     "metadata": {},
     "output_type": "display_data"
    }
   ],
   "source": [
    "# отрисуем все что у нас есть\n",
    "cols = 8\n",
    "rows = 2\n",
    "fig = plt.figure(figsize=(2 * cols, 2.5 * rows))\n",
    "for i in range(cols):\n",
    "    for j in range(rows):\n",
    "        random_index = np.random.randint(0, len(train_dataset))\n",
    "        ax = fig.add_subplot(rows, cols, i * rows + j + 1)\n",
    "        ax.grid(False)\n",
    "        ax.set_xticks([])\n",
    "        ax.set_yticks([])\n",
    "        ax.imshow(train_dataset[random_index][0][0])\n",
    "        ax.set_xlabel(class_names[train_dataset[random_index][1]])\n",
    "plt.show()"
   ]
  },
  {
   "cell_type": "code",
   "execution_count": 5,
   "id": "de1e6dc7",
   "metadata": {},
   "outputs": [],
   "source": [
    "batch_size = 784\n",
    "num_epochs = 10"
   ]
  },
  {
   "cell_type": "code",
   "execution_count": 6,
   "id": "e521db1e",
   "metadata": {},
   "outputs": [],
   "source": [
    "train_loader = DataLoader(train_dataset, batch_size=batch_size, shuffle=True) \n",
    "test_loader = DataLoader(test_dataset, batch_size=batch_size, shuffle=False) "
   ]
  },
  {
   "cell_type": "code",
   "execution_count": 7,
   "id": "930bc9d0",
   "metadata": {},
   "outputs": [],
   "source": [
    "'''\n",
    "STEP 3: CREATE MODEL CLASS\n",
    "'''\n",
    "\n",
    "# если используем crossentropy loss, то softmax будет применен автоматически\n",
    "class FeedforwardNeuralNetModel(nn.Module):\n",
    "        def __init__(self, input_size, hidden_size, output_size: int = 10):\n",
    "            super().__init__()\n",
    "            self.linear1 = nn.Linear(in_features=input_size, out_features=hidden_size)\n",
    "            self.activation = nn.LeakyReLU(negative_slope=0.01)\n",
    "            self.batch_norm = nn.BatchNorm1d(num_features=hidden_size)\n",
    "            self.linear2 =nn.Linear(in_features=hidden_size, out_features=hidden_size)\n",
    "            self.dropout = nn.Dropout(p=0.2)\n",
    "            self.linear3 =nn.Linear(in_features=hidden_size, out_features=output_size)\n",
    "            self.softmax = nn.Softmax()\n",
    "            \n",
    "        def forward(self, x):\n",
    "#           переопределенный метод forward в nn.Linear\n",
    "            out = self.linear1(x) \n",
    "            out = self.activation(out)\n",
    "        \n",
    "            out = self.batch_norm(out)\n",
    "            \n",
    "            out = self.linear2(out)\n",
    "            out = self.activation(out)\n",
    "            \n",
    "            out = self.dropout(out)\n",
    "            \n",
    "            out = self.linear3(out)\n",
    "            return out\n"
   ]
  },
  {
   "cell_type": "code",
   "execution_count": 9,
   "id": "80a94710",
   "metadata": {},
   "outputs": [],
   "source": [
    "model = FeedforwardNeuralNetModel(784, 256, 10)"
   ]
  },
  {
   "cell_type": "code",
   "execution_count": 8,
   "id": "9e6a8f0d",
   "metadata": {},
   "outputs": [],
   "source": [
    "criterion = nn.CrossEntropyLoss()"
   ]
  },
  {
   "cell_type": "code",
   "execution_count": 11,
   "id": "45b3ff27",
   "metadata": {},
   "outputs": [],
   "source": [
    "learnig_rate = 0.005\n",
    "optimizer = torch.optim.Adam(model.parameters(), lr=learnig_rate)"
   ]
  },
  {
   "cell_type": "code",
   "execution_count": 14,
   "id": "2de81702",
   "metadata": {},
   "outputs": [
    {
     "name": "stdout",
     "output_type": "stream",
     "text": [
      "EPOCH = 0, TEST_ACCURACY = 0.0947\n",
      "EPOCH = 1, TEST_ACCURACY = 0.0947\n",
      "EPOCH = 2, TEST_ACCURACY = 0.0947\n",
      "EPOCH = 3, TEST_ACCURACY = 0.0947\n",
      "EPOCH = 4, TEST_ACCURACY = 0.0947\n",
      "EPOCH = 5, TEST_ACCURACY = 0.0947\n",
      "EPOCH = 6, TEST_ACCURACY = 0.0947\n",
      "EPOCH = 7, TEST_ACCURACY = 0.0947\n",
      "EPOCH = 8, TEST_ACCURACY = 0.0947\n",
      "EPOCH = 9, TEST_ACCURACY = 0.0947\n"
     ]
    }
   ],
   "source": [
    "for epoch in range(num_epochs):\n",
    "    for data, labels in train_loader:\n",
    "        data = data.view(-1, 28*28)\n",
    "        \n",
    "        optimizer.zero_grad()\n",
    "    \n",
    "        result = model(data)\n",
    "        \n",
    "        loss = criterion(result, labels)\n",
    "        \n",
    "        loss.backward()\n",
    "    \n",
    "    model.eval()\n",
    "    correct = 0\n",
    "    total = 0\n",
    "    for data, labels in test_loader:\n",
    "        data = data.view(-1, 28*28)\n",
    "        \n",
    "        result = model(data)\n",
    "        \n",
    "        result_labels = torch.argmax(result, dim=1)\n",
    "        \n",
    "        correct += (result_labels == labels).sum().item()\n",
    "        total += labels.size(0)\n",
    "        \n",
    "    print(f'EPOCH = {epoch}, TEST_ACCURACY = {correct / total}')"
   ]
  },
  {
   "cell_type": "code",
   "execution_count": null,
   "id": "f03b219b",
   "metadata": {},
   "outputs": [],
   "source": []
  },
  {
   "cell_type": "code",
   "execution_count": null,
   "id": "c856790f",
   "metadata": {},
   "outputs": [],
   "source": []
  },
  {
   "cell_type": "code",
   "execution_count": null,
   "id": "adcabe07",
   "metadata": {},
   "outputs": [],
   "source": []
  }
 ],
 "metadata": {
  "kernelspec": {
   "display_name": "Python 3",
   "language": "python",
   "name": "python3"
  },
  "language_info": {
   "codemirror_mode": {
    "name": "ipython",
    "version": 3
   },
   "file_extension": ".py",
   "mimetype": "text/x-python",
   "name": "python",
   "nbconvert_exporter": "python",
   "pygments_lexer": "ipython3",
   "version": "3.8.8"
  }
 },
 "nbformat": 4,
 "nbformat_minor": 5
}
