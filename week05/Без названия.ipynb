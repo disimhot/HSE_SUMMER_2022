{
 "cells": [
  {
   "cell_type": "code",
   "execution_count": 14,
   "id": "cc3e93c0",
   "metadata": {},
   "outputs": [
    {
     "name": "stdout",
     "output_type": "stream",
     "text": [
      "3\n",
      "[1, 1, 2]\n",
      "2\n"
     ]
    }
   ],
   "source": [
    "def fib_digit(n):\n",
    "    ...\n",
    "\n",
    "\n",
    "def main():\n",
    "    n = int(input())\n",
    "    print(fib_digit(n))\n",
    "\n",
    "\n",
    "if __name__ == \"__main__\":\n",
    "    main()"
   ]
  }
 ],
 "metadata": {
  "kernelspec": {
   "display_name": "Python 3",
   "language": "python",
   "name": "python3"
  }
 },
 "nbformat": 4,
 "nbformat_minor": 5
}
