{
 "cells": [
  {
   "cell_type": "code",
   "execution_count": 14,
   "id": "7a32f997",
   "metadata": {},
   "outputs": [
    {
     "name": "stdout",
     "output_type": "stream",
     "text": [
      "3\n",
      "[1, 1, 2]\n",
      "2\n"
     ]
    }
   ],
   "source": [
    "def fib(n):\n",
    "    # put your code here\n",
    "    if n <= 1:\n",
    "        return n\n",
    "    else:\n",
    "        arr = [1, 1]\n",
    "        for i in range(2, n):\n",
    "            arr.append(arr[i-1] + arr[i-2])\n",
    "        return arr[n-1]\n",
    "\n",
    "def main():\n",
    "    n = int(input())\n",
    "    print(fib(n))\n",
    "\n",
    "\n",
    "if __name__ == \"__main__\":\n",
    "    main()"
   ]
  }
 ],
 "metadata": {
  "kernelspec": {
   "display_name": "Python 3",
   "language": "python",
   "name": "python3"
  }
 },
 "nbformat": 4,
 "nbformat_minor": 5
}
