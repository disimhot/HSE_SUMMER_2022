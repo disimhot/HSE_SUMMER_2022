{
  "cells": [
    {
      "cell_type": "markdown",
      "metadata": {
        "id": "fJfCyFe9wDCZ"
      },
      "source": [
        "# В конце этого семинара - домашка!"
      ]
    },
    {
      "cell_type": "markdown",
      "metadata": {
        "id": "BIus6WnIwDCc"
      },
      "source": [
        "# PyTorch"
      ]
    },
    {
      "cell_type": "markdown",
      "metadata": {
        "id": "1xw_SUohwDCd"
      },
      "source": [
        "## __Tensors__"
      ]
    },
    {
      "cell_type": "markdown",
      "metadata": {
        "id": "ZzUt4g-WwDCd"
      },
      "source": [
        "Одно из основных понятий в PyTorch -- это __Tenosor__. \n",
        "\n",
        "https://pytorch.org/docs/master/tensors.html\n",
        "\n",
        "__Tensor__ -- это такой же массив, как и в __numpy.array__, размерность и тип данных которого мы можем задать. Tensor в отличие от numpy.array может вычисляться на __GPU__."
      ]
    },
    {
      "cell_type": "code",
      "execution_count": 1,
      "metadata": {
        "id": "ywEAZfbJwDCe"
      },
      "outputs": [],
      "source": [
        "import numpy as np\n",
        "import torch\n",
        "import torch.nn as nn"
      ]
    },
    {
      "cell_type": "code",
      "execution_count": 2,
      "metadata": {
        "id": "ZkjSU7vGwDCg"
      },
      "outputs": [],
      "source": [
        "N = 100\n",
        "D_in = 50\n",
        "\n",
        "dtype = torch.float\n",
        "device = torch.device(\"cpu\")\n",
        "# device = torch.device(\"cuda:0\") # Uncomment this to run on GPU\n",
        "\n",
        "x = np.random.randn(N, D_in)\n",
        "x_torch = torch.randn(N, D_in, device=device, dtype=dtype)"
      ]
    },
    {
      "cell_type": "code",
      "execution_count": null,
      "metadata": {
        "colab": {
          "base_uri": "https://localhost:8080/"
        },
        "id": "mHNTpd7FwDCg",
        "outputId": "f51c9dcb-4024-41ba-fb39-b6582712f88a"
      },
      "outputs": [
        {
          "output_type": "execute_result",
          "data": {
            "text/plain": [
              "array([[-0.84329108,  1.17061388,  0.98039954, ...,  0.61196989,\n",
              "        -0.27620873, -0.3219075 ],\n",
              "       [ 0.28382695,  1.31714577, -0.56872443, ...,  0.97936627,\n",
              "        -1.69109842, -1.03308883],\n",
              "       [-0.05361776, -0.70647308, -0.96305949, ...,  1.36891426,\n",
              "         2.6007422 ,  0.39074984],\n",
              "       ...,\n",
              "       [ 0.93088953,  0.52695826, -0.92269251, ...,  0.4134342 ,\n",
              "         1.09694695, -0.89944273],\n",
              "       [-0.52576478, -1.29210179,  1.18168006, ..., -0.07382236,\n",
              "        -0.01727841,  1.58707054],\n",
              "       [ 1.29708336,  0.54603811, -0.5969192 , ..., -0.0955375 ,\n",
              "        -0.58213242, -1.4301162 ]])"
            ]
          },
          "metadata": {},
          "execution_count": 5
        }
      ],
      "source": [
        "x"
      ]
    },
    {
      "cell_type": "code",
      "execution_count": null,
      "metadata": {
        "colab": {
          "base_uri": "https://localhost:8080/"
        },
        "id": "r0ySRhq8wDCi",
        "outputId": "60703ffe-46e4-4368-a058-edcd58077fb2"
      },
      "outputs": [
        {
          "output_type": "execute_result",
          "data": {
            "text/plain": [
              "tensor([[-1.0268,  1.4389,  2.2992,  ..., -0.3222,  2.7132, -0.2795],\n",
              "        [ 0.5932,  0.2274,  0.0867,  ...,  0.2125, -0.3670,  0.3979],\n",
              "        [ 0.6664, -0.6386, -0.3155,  ...,  0.2885, -0.2772,  0.6319],\n",
              "        ...,\n",
              "        [ 0.5256,  0.1322, -0.0448,  ..., -0.1412,  0.2250,  0.0586],\n",
              "        [-0.2285, -0.7592, -0.3431,  ...,  0.2474,  0.5064, -0.3703],\n",
              "        [-0.3335,  0.4036,  1.3411,  ..., -1.5908,  1.0203, -1.1305]])"
            ]
          },
          "metadata": {},
          "execution_count": 13
        }
      ],
      "source": [
        "x_torch"
      ]
    },
    {
      "cell_type": "code",
      "execution_count": null,
      "metadata": {
        "colab": {
          "base_uri": "https://localhost:8080/"
        },
        "id": "Ce5rLIr6wDCj",
        "outputId": "cf10b179-579a-4183-aaee-e8a4bad927a8"
      },
      "outputs": [
        {
          "output_type": "execute_result",
          "data": {
            "text/plain": [
              "tensor([[1., 1., 1.,  ..., 1., 1., 1.],\n",
              "        [1., 1., 1.,  ..., 1., 1., 1.],\n",
              "        [1., 1., 1.,  ..., 1., 1., 1.],\n",
              "        ...,\n",
              "        [1., 1., 1.,  ..., 1., 1., 1.],\n",
              "        [1., 1., 1.,  ..., 1., 1., 1.],\n",
              "        [1., 1., 1.,  ..., 1., 1., 1.]])"
            ]
          },
          "metadata": {},
          "execution_count": 14
        }
      ],
      "source": [
        "x_torch = torch.Tensor(np.ones((N, D_in)))\n",
        "x_torch"
      ]
    },
    {
      "cell_type": "code",
      "execution_count": null,
      "metadata": {
        "colab": {
          "base_uri": "https://localhost:8080/"
        },
        "id": "0b_sfYsswDCj",
        "outputId": "6d09af03-23c8-4e4d-bb21-9072727029d6"
      },
      "outputs": [
        {
          "output_type": "execute_result",
          "data": {
            "text/plain": [
              "tensor([1., 2., 3.])"
            ]
          },
          "metadata": {},
          "execution_count": 15
        }
      ],
      "source": [
        "x_torch = torch.FloatTensor([1, 2, 3])\n",
        "x_torch"
      ]
    },
    {
      "cell_type": "code",
      "execution_count": null,
      "metadata": {
        "id": "GrtUwVdbwDCk"
      },
      "outputs": [],
      "source": [
        "x1 = torch.IntTensor([1, 2, 3])\n",
        "x2 = torch.FloatTensor([3, 4, 5])"
      ]
    },
    {
      "cell_type": "code",
      "execution_count": null,
      "metadata": {
        "colab": {
          "base_uri": "https://localhost:8080/"
        },
        "id": "RMUWOKqAwDCk",
        "outputId": "2e8d8cc3-f921-4682-a3a7-738af757bf09"
      },
      "outputs": [
        {
          "output_type": "stream",
          "name": "stdout",
          "text": [
            "tensor([1, 2, 3], dtype=torch.int32)\n",
            "tensor([3., 4., 5.])\n"
          ]
        }
      ],
      "source": [
        "print(x1)\n",
        "print(x2)"
      ]
    },
    {
      "cell_type": "markdown",
      "metadata": {
        "id": "SJEYl1RywDCl"
      },
      "source": [
        "В PyTorch можно найти много операций, которые похожи на то, что есть в numpy :\n",
        "```\n",
        "- torch.add (np.add) -> сложение тензоров (поэлементное)\n",
        "- torch.sub (np.subtract) -> вычитание (поэлементное)\n",
        "- torch.mul (np.multiply) -> умнажение скаляров / матриц (поэлементное)\n",
        "- torch.mm (np.matmul) -> перемножение матриц\n",
        "- torch.ones (np.ones) -> создание тензора из единиц\n",
        "```"
      ]
    },
    {
      "cell_type": "code",
      "execution_count": null,
      "metadata": {
        "id": "WtC-ndZpwDCm"
      },
      "outputs": [],
      "source": [
        "# Давайте попробуем вышепересчисленные операции"
      ]
    },
    {
      "cell_type": "code",
      "execution_count": null,
      "metadata": {
        "id": "vR_qPW3TwDCm"
      },
      "outputs": [],
      "source": [
        "x1 = torch.FloatTensor([[1, 2, 3], [4, 5, 6]])"
      ]
    },
    {
      "cell_type": "code",
      "execution_count": null,
      "metadata": {
        "id": "IPd4DhcYwDCn"
      },
      "outputs": [],
      "source": [
        "x2 = torch.FloatTensor([[7, 8], [9, 1], [2, 3]])"
      ]
    },
    {
      "cell_type": "code",
      "execution_count": null,
      "metadata": {
        "colab": {
          "base_uri": "https://localhost:8080/"
        },
        "id": "ulTpkXznwDCo",
        "outputId": "c5f61aae-7303-4638-8cab-38a4beb562b6"
      },
      "outputs": [
        {
          "output_type": "execute_result",
          "data": {
            "text/plain": [
              "tensor([[31., 19.],\n",
              "        [85., 55.]])"
            ]
          },
          "metadata": {},
          "execution_count": 21
        }
      ],
      "source": [
        "out = torch.mm(x1, x2)\n",
        "out"
      ]
    },
    {
      "cell_type": "markdown",
      "metadata": {
        "id": "SilOxRxbwDCo"
      },
      "source": [
        "```\n",
        "- torch.view (np.reshape) -> изменения порядка элементов в тензоре, не путать с транспонированием.\n",
        "```"
      ]
    },
    {
      "cell_type": "markdown",
      "metadata": {
        "id": "vbOrnpKgwDCp"
      },
      "source": [
        "## Dynamic Computational Graph"
      ]
    },
    {
      "cell_type": "markdown",
      "metadata": {
        "id": "0YE6fAdXwDCp"
      },
      "source": [
        "После того, как были реализованы архитектура модели и весь процес обучения и валидация сети, при запуске кода в PyTorch происходят следующие этапы:"
      ]
    },
    {
      "cell_type": "markdown",
      "metadata": {
        "id": "MlFJ0UqxwDCq"
      },
      "source": [
        "1. Строится вычислительный граф (направленный ациклический граф), где каждое ребро, ведущее к дргуому узлу, -- это тензор, а узел - это выполнение операции над данным тензором."
      ]
    },
    {
      "cell_type": "markdown",
      "metadata": {
        "id": "BT_Lffg7wDCr"
      },
      "source": [
        "<img src=\"./images/Graph.png\" alt=\"Drawing\" style=\"width: 300px;\"/>"
      ]
    },
    {
      "cell_type": "markdown",
      "metadata": {
        "id": "ID1tJ8YowDCs"
      },
      "source": [
        "Реализуем двухслойную сеть для задачи регрессии. И граф для такой архитектуры бдует выглядить следующим образом:"
      ]
    },
    {
      "cell_type": "markdown",
      "metadata": {
        "id": "UxpfP9LLwDCs"
      },
      "source": [
        "<img src=\"./images/RegGraph.png\" alt=\"Drawing\" />"
      ]
    },
    {
      "cell_type": "code",
      "execution_count": null,
      "metadata": {
        "id": "NVZyMaJqwDCs"
      },
      "outputs": [],
      "source": [
        "batch_size = 64\n",
        "input_size = 3\n",
        "hidden_size = 2\n",
        "output_size = 1"
      ]
    },
    {
      "cell_type": "code",
      "execution_count": null,
      "metadata": {
        "colab": {
          "base_uri": "https://localhost:8080/",
          "height": 236
        },
        "id": "JAXUStShwDCt",
        "outputId": "7c1dc3a3-4da1-454e-9469-59d4e4dcd988"
      },
      "outputs": [
        {
          "output_type": "error",
          "ename": "NameError",
          "evalue": "ignored",
          "traceback": [
            "\u001b[0;31m---------------------------------------------------------------------------\u001b[0m",
            "\u001b[0;31mNameError\u001b[0m                                 Traceback (most recent call last)",
            "\u001b[0;32m<ipython-input-23-e85fdb912248>\u001b[0m in \u001b[0;36m<module>\u001b[0;34m()\u001b[0m\n\u001b[1;32m     16\u001b[0m \u001b[0;34m\u001b[0m\u001b[0m\n\u001b[1;32m     17\u001b[0m \u001b[0;34m\u001b[0m\u001b[0m\n\u001b[0;32m---> 18\u001b[0;31m     \u001b[0mw1\u001b[0m \u001b[0;34m-=\u001b[0m \u001b[0mlearning_rate\u001b[0m \u001b[0;34m*\u001b[0m \u001b[0mgrad_w1\u001b[0m\u001b[0;34m\u001b[0m\u001b[0;34m\u001b[0m\u001b[0m\n\u001b[0m\u001b[1;32m     19\u001b[0m     \u001b[0mw2\u001b[0m \u001b[0;34m-=\u001b[0m \u001b[0mlearning_rate\u001b[0m \u001b[0;34m*\u001b[0m \u001b[0mgrad_w2\u001b[0m\u001b[0;34m\u001b[0m\u001b[0;34m\u001b[0m\u001b[0m\n\u001b[1;32m     20\u001b[0m     \u001b[0;32mif\u001b[0m \u001b[0mt\u001b[0m \u001b[0;34m%\u001b[0m \u001b[0;36m100\u001b[0m \u001b[0;34m==\u001b[0m \u001b[0;36m99\u001b[0m\u001b[0;34m:\u001b[0m\u001b[0;34m\u001b[0m\u001b[0;34m\u001b[0m\u001b[0m\n",
            "\u001b[0;31mNameError\u001b[0m: name 'grad_w1' is not defined"
          ]
        }
      ],
      "source": [
        "# Create random input and output data\n",
        "x = torch.randn(batch_size, input_size, device=device, dtype=dtype)\n",
        "y = torch.randn(batch_size, output_size, device=device, dtype=dtype)\n",
        "\n",
        "# Randomly initialize weights\n",
        "w1 = torch.randn(input_size, hidden_size, device=device, dtype=dtype)\n",
        "w2 = torch.randn(hidden_size, output_size, device=device, dtype=dtype)\n",
        "\n",
        "learning_rate = 1e-6\n",
        "for t in range(500):\n",
        "    # Forward pass: compute predicted y\n",
        "    #TODO\n",
        "    \n",
        "    \n",
        "    # Compute and print loss\n",
        "    \n",
        "    \n",
        "    w1 -= learning_rate * grad_w1\n",
        "    w2 -= learning_rate * grad_w2\n",
        "    if t % 100 == 99:\n",
        "        print('Loss on iteration {} = {}'.format(t, loss))\n",
        "    "
      ]
    },
    {
      "cell_type": "code",
      "execution_count": null,
      "metadata": {
        "id": "oXnMwTjDwDCu"
      },
      "outputs": [],
      "source": [
        "loss"
      ]
    },
    {
      "cell_type": "markdown",
      "metadata": {
        "id": "2xJCs_tiwDCu"
      },
      "source": [
        "## Autograd"
      ]
    },
    {
      "cell_type": "markdown",
      "metadata": {
        "id": "FTxgA08VwDCu"
      },
      "source": [
        "2. Еще одно фундаментальное понятие и важный элемент при построении графа -- это __Autograd__ -- автоматическое дифференцирование.\n",
        "\n",
        "Для того чтобы с помощью стохастического градиентного спуска обновить обучаемые параметры сети, нужно посчитать градиенты. И как известно, обновление весов, которые учавтсвуют в нескольких операциях, происходит по `правилу дифференцирования сложной функции` (цепное правило или __chain rule__)."
      ]
    },
    {
      "cell_type": "markdown",
      "metadata": {
        "id": "m1ZcWLkgwDCv"
      },
      "source": [
        "<img src=\"./images/RegChainRule.png\" alt=\"Drawing\" />"
      ]
    },
    {
      "cell_type": "markdown",
      "metadata": {
        "id": "k4Wc2YF5wDCv"
      },
      "source": [
        "То есть (1) вычислительный граф позволяет определить последовательность операций, а (2) автоматическое дифференцирование посчитать нужные градиенты."
      ]
    },
    {
      "cell_type": "markdown",
      "metadata": {
        "id": "-MROFzSjwDCv"
      },
      "source": [
        "Если бы `Autograd` не было, то тогда backprop надо было бы реализовывать самим, и как это бы выглядело?"
      ]
    },
    {
      "cell_type": "markdown",
      "metadata": {
        "id": "pnL2V4zAwDCw"
      },
      "source": [
        "Рассмотрим на примере, как посчиать градиенты для весов из входного слоя, где входной вектора `X` состоит из 3-х компонент. А входной слой вторую размерность имеет равной 2. \n",
        "\n",
        "После чего это идет в `ReLU`, но для простоты опустим на время ее, и посмотрим как дальше это идет по сети.\n",
        "\n",
        "Ниже написано, как это все вычисляется и приводит нас к значению целевой функции для одного наблюдения"
      ]
    },
    {
      "cell_type": "markdown",
      "metadata": {
        "id": "mSAoeKHBwDCw"
      },
      "source": [
        "<img src=\"./images/1.png\" alt=\"1\" style=\"width: 600px;\"/>"
      ]
    },
    {
      "cell_type": "markdown",
      "metadata": {
        "id": "gl0zmqyNwDCw"
      },
      "source": [
        "Тогда, чтобы посчитать градиент по первому элементу из обучаемой матрицы на первом слое, необходимо взять производоную у сложной функции. А этот как раз делается по `chain rule`: сначала берем у внешней, потом спускаемся на уровень ниже, и так пока не додйдем до то функции, после которой эта перменная уже нигде не участвует:"
      ]
    },
    {
      "cell_type": "markdown",
      "metadata": {
        "id": "CrJ-VEsUwDCx"
      },
      "source": [
        "<img src=\"./images/2.png\" alt=\"2\" style=\"width: 400px;\"/>"
      ]
    },
    {
      "cell_type": "markdown",
      "metadata": {
        "id": "Ua_E_VFrwDCy"
      },
      "source": [
        "Перепишем это все в матричном виде, то есть сделаем аналог вида матрицы весов из первого слоя, но там уже будут её градиенты, котоыре будут нужны чтобы как раз обновить эти веса:"
      ]
    },
    {
      "cell_type": "markdown",
      "metadata": {
        "id": "cuWRFarUwDCz"
      },
      "source": [
        "<img src=\"./images/3.jpg\" alt=\"3\" style=\"width: 600px;\"/>"
      ]
    },
    {
      "cell_type": "markdown",
      "metadata": {
        "id": "PCqZAUmjwDCz"
      },
      "source": [
        "Как видно, здесь можно вектор X вынести, то есть разделить на две матрицы:"
      ]
    },
    {
      "cell_type": "markdown",
      "metadata": {
        "id": "5kpBSXbwwDC0"
      },
      "source": [
        "<img src=\"./images/4.jpg\" alt=\"4\" style=\"width: 500px;\"/>"
      ]
    },
    {
      "cell_type": "markdown",
      "metadata": {
        "id": "cU5mtAAWwDC0"
      },
      "source": [
        "То есть уже видно, что будем траспонировать входной вектор(матрицу). Но надо понимать, что в реальности у нас не одно наблюдение в батче, а несколько, тогда запись немного изменит свой вид:"
      ]
    },
    {
      "cell_type": "markdown",
      "metadata": {
        "id": "ZLzSwzmXwDC0"
      },
      "source": [
        "<img src=\"./images/5.jpg\" alt=\"5\" style=\"width: 500px;\"/>"
      ]
    },
    {
      "cell_type": "markdown",
      "metadata": {
        "id": "6cPwlnr_wDC1"
      },
      "source": [
        "Теперь мы видим, как на самом деле вычисляется вот те самые частные производные для вектора X, то есть видно, как математически это можно записать, а именно:"
      ]
    },
    {
      "cell_type": "markdown",
      "metadata": {
        "id": "MrwSWugQwDC1"
      },
      "source": [
        "<img src=\"./images/6.jpg\" alt=\"6\" style=\"width: 500px;\"/>"
      ]
    },
    {
      "cell_type": "markdown",
      "metadata": {
        "id": "SZlagWvNwDC1"
      },
      "source": [
        "<img src=\"./images/7.jpg\" alt=\"7\" style=\"width: 500px;\"/>"
      ]
    },
    {
      "cell_type": "markdown",
      "metadata": {
        "id": "IhGJ3SO5wDC2"
      },
      "source": [
        "Уже можно реализовать. Понятно, что транспонируется, что нет, и что на что умножается."
      ]
    },
    {
      "cell_type": "markdown",
      "metadata": {
        "id": "r6_fuHT4wDC2"
      },
      "source": [
        "Но помним про ReLU. Для простоты опустили, но теперь её учесть будет легче. \n",
        "\n",
        "Так как после первого слоя идет ReLU, а значит, занулились те выходы первого слоя, которые были __меньше__ нуля. Получается, что во второй слой не все дошло, тогда нужно обнулить, что занулил ReLU. \n",
        "\n",
        "Что занулил ReLU, мы можем выяснить при `forward pass`, а где именно поставить нули, то надо уже смотреть относительно `backward propagation`, на том выходе, где последний раз участвовал выход после ReLU, то есть:"
      ]
    },
    {
      "cell_type": "markdown",
      "metadata": {
        "id": "8Iuf9sjMwDC2"
      },
      "source": [
        "<img src=\"./images/8.jpg\" alt=\"8\" style=\"width: 600px;\"/>"
      ]
    },
    {
      "cell_type": "markdown",
      "metadata": {
        "id": "giX9mqsRwDC2"
      },
      "source": [
        "Благодаря `Autograd` реализацию `chain rule` можно избежать, так как для более сложных нейронных сетей вручную такое реализовать сложно, при этом сделать это эффективным."
      ]
    },
    {
      "cell_type": "markdown",
      "metadata": {
        "id": "IQ_vMRtEwDC2"
      },
      "source": [
        "Для того чтобы PyTorch понял, за какими переменными надо \"следить\", то есть указать, что именно \"эти\" переменные являются обучаемыми, необходимо при создании тензора в качестве аттрибута указать __requires_grad=True__:"
      ]
    },
    {
      "cell_type": "code",
      "execution_count": null,
      "metadata": {
        "id": "DHkX12L8wDC3"
      },
      "outputs": [],
      "source": [
        "w1 = torch.randn(input_size, hidden_size, device=device, dtype=dtype, requires_grad=True)\n",
        "w2 = torch.randn(hidden_size, output_size, device=device, dtype=dtype, requires_grad=True)"
      ]
    },
    {
      "cell_type": "code",
      "execution_count": null,
      "metadata": {
        "id": "BoG8t1AswDC3"
      },
      "outputs": [],
      "source": [
        "learning_rate = 1e-6\n",
        "for t in range(500):\n",
        "    y_pred = x.mm(w1).clamp(min=0).mm(w2)\n",
        "\n",
        "    loss = (y_pred - y).pow(2).sum()\n",
        "    if t % 100 == 99:\n",
        "        print(t, loss.item())\n",
        "    \n",
        "    # Теперь подсчет градиентов для весов происходит при вызове backward\n",
        "    loss.backward()\n",
        "   \n",
        "    # Обновляем значение весов, но укзаываем, чтобы PyTorch не считал эту операцию, \n",
        "    # которая бы учавствовала бы при подсчете градиентов в chain rule\n",
        "    with torch.no_grad():\n",
        "        w1 -= learning_rate * w1.grad\n",
        "        w2 -= learning_rate * w2.grad\n",
        "        \n",
        "        # Теперь обнуляем значение градиентов, чтобы на следующем шаге \n",
        "        # они не учитывались при подсчете новых градиентов,\n",
        "        # иначе произойдет суммирвоание старых и новых градиентов\n",
        "        w1.grad.zero_()\n",
        "        w2.grad.zero_()"
      ]
    },
    {
      "cell_type": "markdown",
      "metadata": {
        "id": "WD7SdpS2wDC4"
      },
      "source": [
        "Осталось еще не вручную обновлять веса, а использовать адаптивные методы градинетного спсука. Для этого нужно использовать модуль __optim__. А помимо оптимайзера, еще можно использовать готовые целевые функции из модлуя __nn__."
      ]
    },
    {
      "cell_type": "code",
      "execution_count": null,
      "metadata": {
        "id": "kOIlihrNwDC4"
      },
      "outputs": [],
      "source": [
        "import torch.optim as optim\n",
        "\n",
        "loss_fn = torch.nn.MSELoss(reduction='sum')\n",
        "\n",
        "learning_rate = 1e-6\n",
        "optimizer = torch.optim.Adam([w1, w2], lr=learning_rate)\n",
        "\n",
        "for t in range(500):\n",
        "    optimizer.zero_grad()\n",
        "    \n",
        "    y_pred = x.mm(w1).clamp(min=0).mm(w2)\n",
        "    \n",
        "    loss = loss_fn(y_pred, y)\n",
        "    if t % 100 == 99:\n",
        "        print(t, loss.item())\n",
        "    \n",
        "    loss.backward()\n",
        "   \n",
        "    optimizer.step()"
      ]
    },
    {
      "cell_type": "markdown",
      "metadata": {
        "id": "mcWlzpbqwDC5"
      },
      "source": [
        "После того, как мы сделали backward, в этот момент посчитались градиенты и граф уничтожился, то есть стёрлись все пути, которые связывали тензоры между собой. Это значит, что еще раз backward сделать не поулчится, будет ошибка. Но если вдруг нужно считать градиенты еще раз, то нужно при вызове backward задать `retain_graph=True`."
      ]
    },
    {
      "cell_type": "markdown",
      "metadata": {
        "id": "Fy8NSWCswDC5"
      },
      "source": [
        "Еще важный аттрибут, который есть у Tensor -- это `grad_fn`. В этом аттрибуте указывается та функция, посредством которой был создан этот тензор. Так PyTorch понимает, как именно считать по нему градиент."
      ]
    },
    {
      "cell_type": "code",
      "execution_count": null,
      "metadata": {
        "id": "FNmEeCqwwDC6"
      },
      "outputs": [],
      "source": [
        "y_pred.grad_fn"
      ]
    },
    {
      "cell_type": "markdown",
      "metadata": {
        "id": "6tgoiYHQwDC6"
      },
      "source": [
        "Также можно контролировать, должны ли градиенты течь или нет."
      ]
    },
    {
      "cell_type": "code",
      "execution_count": null,
      "metadata": {
        "id": "535RuSyVwDC6"
      },
      "outputs": [],
      "source": [
        "x = torch.tensor([1.], requires_grad=True)\n",
        "with torch.no_grad():\n",
        "    with torch.enable_grad():\n",
        "        y = x * 2\n",
        "y.requires_grad"
      ]
    },
    {
      "cell_type": "markdown",
      "metadata": {
        "id": "NS5aaBn6wDC7"
      },
      "source": [
        "## Почему Backprop надо понимать"
      ]
    },
    {
      "cell_type": "markdown",
      "metadata": {
        "id": "C8HEX2FHwDC7"
      },
      "source": [
        "1. Backprop позволяет понимать, как те или иные операции, сложные конструкции в сети влияют на обнолвение весов.\n",
        "Почему лучше сделать конкатенацию тензоров, а не поэлементное сложение. Для этого нужно посмотреть на backprop, как будут обновляться веса.\n",
        "\n",
        "2. Даже на таком маленьком пример двуслойной MLP можно уже увидеть, когда `ReLU`, как функция активация, не очень хорошо применять. Если разреженные данные, то получить на выходе много нулей вероятнее, чем при использовании `LeakyReLU`, то есть градиенты будут нулевыми и веса никак не будут обновляться => сеть не обучается!\n",
        "\n",
        "3. В архитектуре могут встречаться недифференцируемые операции, и первое - это нужно понять, потому что при обучении сети это может быть не сразу заметно, просто качество модели будет плохое, и точность хорошую не поулчится достичь.\n",
        "\n",
        "Например, в одной из статей было предложено в качестве механизма внимания применить распределение Бернулли, которое умножается на выход промежуточного слоя сети. И эта опреация недифференцируема, нужно реализовывать backprop самим, тем самым обеспечить корректное протекание градиентов.\n"
      ]
    },
    {
      "cell_type": "markdown",
      "metadata": {
        "id": "se_HjMa5wDC7"
      },
      "source": [
        "<img src=\"./images/Bernoulli.png\" alt=\"8\" style=\"width: 600px;\"/>"
      ]
    },
    {
      "cell_type": "markdown",
      "metadata": {
        "id": "M5toHE6hwDC7"
      },
      "source": [
        "Так же любая статья, которая предлагет новую целевую функцию для той или иной задачи, там всегда будут представлены градиенты, чтобы было понимание, как это влияет на обновление весов. Не просто так !"
      ]
    },
    {
      "cell_type": "markdown",
      "metadata": {
        "id": "gjAEjqscwDC8"
      },
      "source": [
        "<img src=\"./images/BernoulliBackProp.png\" alt=\"8\" style=\"width: 600px;\"/>"
      ]
    },
    {
      "cell_type": "markdown",
      "metadata": {
        "id": "cqb4EXYewDC8"
      },
      "source": [
        "## nn.Module"
      ]
    },
    {
      "cell_type": "markdown",
      "metadata": {
        "id": "xHq_6xtdwDC8"
      },
      "source": [
        "В предыдущем примере архитектуру сети создавали используя последовательной способ объявления слоев сети -- `nn.Sequential`.\n",
        "\n",
        "Но еще можно это сделать более гибким подходом:"
      ]
    },
    {
      "cell_type": "code",
      "execution_count": null,
      "metadata": {
        "id": "X1Mw-eBJwDC8"
      },
      "outputs": [],
      "source": [
        "class TwoLayerNet(nn.Module):\n",
        "    def __init__(self, input_size, hidden_size, output_size):\n",
        "        \"\"\"\n",
        "        TwoLayerNet наследуется от nn.Module и тем самым полчаем возможность\n",
        "        переопределять методы класса.\n",
        "        В конструктуре создаем слои (обучаемые веса) и другие нужные перменные/функции,\n",
        "        которые нужны для модели\n",
        "        \"\"\"\n",
        "        super(TwoLayerNet, self).__init__()\n",
        "        self.linear1 = torch.nn.Linear(input_size, hidden_size)\n",
        "        self.linear2 = torch.nn.Linear(hidden_size, output_size)\n",
        "\n",
        "    def forward(self, x):\n",
        "        \"\"\"\n",
        "        Метод forward отвечает за прямое распростронение модели, \n",
        "        поэтому данный метод нужно переопределять обязательно, \n",
        "        чтобы задать логику прямого распростронения. \n",
        "        Именно в этот момент начинает строится динамический граф\n",
        "        \"\"\"\n",
        "        h_relu = self.linear1(x).clamp(min=0)\n",
        "        y_pred = self.linear2(h_relu)\n",
        "        \n",
        "        return y_pred"
      ]
    },
    {
      "cell_type": "code",
      "source": [
        "batch_size = 64\n",
        "input_size = 1000\n",
        "hidden_size = 100\n",
        "output_size = 10\n",
        "\n",
        "x = torch.randn(batch_size, input_size, device=device, dtype=dtype)\n",
        "y = torch.randn(batch_size, output_size, device=device, dtype=dtype)\n",
        "\n",
        "model = TwoLayerNet(Dinput_size_in, hidden_size, output_size)\n",
        "\n",
        "loss_fn = torch.nn.MSELoss(reduction='sum')\n",
        "optimizer = torch.optim.SGD(model.parameters(), lr=1e-4)\n",
        "\n",
        "for t in range(500):\n",
        "    y_pred = model(x)\n",
        "\n",
        "    loss = loss_fn(y_pred, y)\n",
        "    if t % 100 == 99:\n",
        "        print(t, loss.item())\n",
        "\n",
        "    optimizer.zero_grad()\n",
        "    loss.backward()\n",
        "    optimizer.step()"
      ],
      "metadata": {
        "id": "LyzyVddB7QOc"
      },
      "execution_count": null,
      "outputs": []
    },
    {
      "cell_type": "markdown",
      "metadata": {
        "id": "lpGk1YPEwDC9"
      },
      "source": [
        "# Домашние задание"
      ]
    },
    {
      "cell_type": "markdown",
      "metadata": {
        "id": "pVP1iG9VwDC9"
      },
      "source": [
        "1. Добавить Bias и посчитать для них градиенты.\n",
        "2. Сравнить градинеты с тем, как считает PyTorch AutoGrad."
      ]
    },
    {
      "cell_type": "code",
      "execution_count": 4,
      "metadata": {
        "id": "_JBbYHBxwDC9"
      },
      "outputs": [],
      "source": [
        "batch_size = 64\n",
        "input_size = 3\n",
        "hidden_size = 2\n",
        "output_size = 1"
      ]
    },
    {
      "cell_type": "markdown",
      "source": [
        ""
      ],
      "metadata": {
        "id": "X3T5fqwtgW6P"
      }
    },
    {
      "cell_type": "code",
      "source": [
        "torch.manual_seed(100)\n",
        "\n",
        "# Create random input and output data\n",
        "x = torch.randn(batch_size, input_size, device=device, dtype=dtype)\n",
        "y = torch.randn(batch_size, output_size, device=device, dtype=dtype)\n",
        "\n",
        "# Randomly initialize weights and biases\n",
        "w1 = torch.randn(input_size, hidden_size, device=device, dtype=dtype)\n",
        "w2 = torch.randn(hidden_size, output_size, device=device, dtype=dtype)\n",
        "b1 = torch.randn(1, hidden_size, device=device, dtype=dtype)\n",
        "b2 = torch.randn(1, output_size, device=device, dtype=dtype)"
      ],
      "metadata": {
        "id": "AVUmZdXYgXlp"
      },
      "execution_count": 62,
      "outputs": []
    },
    {
      "cell_type": "code",
      "source": [
        "w1"
      ],
      "metadata": {
        "colab": {
          "base_uri": "https://localhost:8080/"
        },
        "id": "xmDxGksOub0w",
        "outputId": "2708a398-2e69-4a29-b131-9a6557f9e721"
      },
      "execution_count": 63,
      "outputs": [
        {
          "output_type": "execute_result",
          "data": {
            "text/plain": [
              "tensor([[-0.0816,  1.5974],\n",
              "        [ 0.2087,  0.7417],\n",
              "        [ 0.0531,  0.9489]])"
            ]
          },
          "metadata": {},
          "execution_count": 63
        }
      ]
    },
    {
      "cell_type": "code",
      "source": [
        "learning_rate = 1e-6\n",
        "for t in range(500):\n",
        "    # Forward pass: compute predicted y\n",
        "    h_1 = x.mm(w1) + b1\n",
        "    h_2 = h_1.clamp(min=0)\n",
        "    out = h_2.mm(w2) + b2\n",
        "    \n",
        "    # Compute and print loss\n",
        "    loss = (out - y).pow(2).sum().item()\n",
        "    \n",
        "    # Backward pass: \n",
        "    dloss_dout = 2 * (out - y)\n",
        " \n",
        "    grad_w2 = h_2.t().mm(dloss_dout)\n",
        "    grad_b2 = dloss_dout.sum()\n",
        "    \n",
        "    grad_h_2 = dloss_dout.mm(w2.t())\n",
        "    \n",
        "    grad_h_2[h_1 < 0] = 0\n",
        "    \n",
        "    grad_w1 = x.t().mm(grad_h_2)\n",
        "    grad_b1 = grad_h_2.sum()\n",
        "    \n",
        "    w1 = w1 - learning_rate * grad_w1\n",
        "    w2 = w2 - learning_rate * grad_w2\n",
        "    b2 = b2 - learning_rate * grad_b2\n",
        "    b1 = b1 - learning_rate * grad_b1\n",
        "\n",
        "    if t % 100 == 99:\n",
        "        print('Loss on iteration {} = {}'.format(t, loss))"
      ],
      "metadata": {
        "colab": {
          "base_uri": "https://localhost:8080/"
        },
        "id": "OAENvT7K7LCV",
        "outputId": "f80d1ceb-39b8-437c-ffef-c1b38aaa82f8"
      },
      "execution_count": 54,
      "outputs": [
        {
          "output_type": "stream",
          "name": "stdout",
          "text": [
            "Loss on iteration 99 = 207.11572265625\n",
            "Loss on iteration 199 = 203.6981201171875\n",
            "Loss on iteration 299 = 200.3757781982422\n",
            "Loss on iteration 399 = 197.14532470703125\n",
            "Loss on iteration 499 = 194.00323486328125\n"
          ]
        }
      ]
    },
    {
      "cell_type": "markdown",
      "metadata": {
        "id": "wjq1EfDdwDC9"
      },
      "source": [
        "### PyTorch AutoGrad"
      ]
    },
    {
      "cell_type": "code",
      "source": [
        "torch.manual_seed(100)\n",
        "\n",
        "# Create random input and output data\n",
        "x = torch.randn(batch_size, input_size, device=device, dtype=dtype)\n",
        "y = torch.randn(batch_size, output_size, device=device, dtype=dtype)\n",
        "\n",
        "# Randomly initialize weights and biases\n",
        "w1 = torch.randn(input_size, hidden_size, device=device, dtype=dtype, requires_grad=True) \n",
        "w2 = torch.randn(hidden_size, output_size, device=device, dtype=dtype, requires_grad=True)\n",
        "b1 = torch.randn(1, hidden_size, device=device, dtype=dtype, requires_grad=True)\n",
        "b2 = torch.randn(1, output_size, device=device, dtype=dtype, requires_grad=True)\n",
        "w1"
      ],
      "metadata": {
        "id": "JEi0-pBh0tfC",
        "colab": {
          "base_uri": "https://localhost:8080/"
        },
        "outputId": "b90edffd-5caa-4d76-d50f-d68862acd880"
      },
      "execution_count": 64,
      "outputs": [
        {
          "output_type": "execute_result",
          "data": {
            "text/plain": [
              "tensor([[-0.0816,  1.5974],\n",
              "        [ 0.2087,  0.7417],\n",
              "        [ 0.0531,  0.9489]], requires_grad=True)"
            ]
          },
          "metadata": {},
          "execution_count": 64
        }
      ]
    },
    {
      "cell_type": "code",
      "execution_count": 65,
      "metadata": {
        "id": "R7wg_NJJwDC9",
        "colab": {
          "base_uri": "https://localhost:8080/"
        },
        "outputId": "6cc78cb2-9876-4dcb-b0f8-3bbbbd0fce29"
      },
      "outputs": [
        {
          "output_type": "stream",
          "name": "stdout",
          "text": [
            "99 207.11572265625\n",
            "199 203.6981201171875\n",
            "299 200.3757781982422\n",
            "399 197.14532470703125\n",
            "499 194.00323486328125\n"
          ]
        }
      ],
      "source": [
        "learning_rate = 1e-6\n",
        "for t in range(500):\n",
        "    y_pred = (x.mm(w1).add(b1)).clamp(min=0).mm(w2).add(b2)\n",
        "\n",
        "    loss = (y_pred - y).pow(2).sum()\n",
        "    if t % 100 == 99:\n",
        "        print(t, loss.item())\n",
        "    \n",
        "    # Теперь подсчет градиентов для весов происходит при вызове backward\n",
        "    loss.backward()\n",
        "    # Обновляем значение весов, но укзаываем, чтобы PyTorch не считал эту операцию, \n",
        "    # которая бы учавствовала бы при подсчете градиентов в chain rule\n",
        "    with torch.no_grad():\n",
        "        w1 -= learning_rate * w1.grad\n",
        "        w2 -= learning_rate * w2.grad\n",
        "        b2 -= learning_rate * b2.grad\n",
        "        b1 -= learning_rate * b1.grad\n",
        "        \n",
        "        # Теперь обнуляем значение градиентов, чтобы на следующем шаге \n",
        "        # они не учитывались при подсчете новых градиентов,\n",
        "        # иначе произойдет суммирвоание старых и новых градиентов\n",
        "        w1.grad.zero_()\n",
        "        w2.grad.zero_()\n",
        "        b1.grad.zero_()\n",
        "        b2.grad.zero_()"
      ]
    }
  ],
  "metadata": {
    "kernelspec": {
      "display_name": "Python 3",
      "language": "python",
      "name": "python3"
    },
    "language_info": {
      "codemirror_mode": {
        "name": "ipython",
        "version": 3
      },
      "file_extension": ".py",
      "mimetype": "text/x-python",
      "name": "python",
      "nbconvert_exporter": "python",
      "pygments_lexer": "ipython3",
      "version": "3.8.8"
    },
    "colab": {
      "name": "Efimova_PyTorch.Graph.AutoGrad.ipynb",
      "provenance": [],
      "collapsed_sections": [
        "vbOrnpKgwDCp",
        "2xJCs_tiwDCu",
        "NS5aaBn6wDC7",
        "cqb4EXYewDC8"
      ]
    }
  },
  "nbformat": 4,
  "nbformat_minor": 0
}