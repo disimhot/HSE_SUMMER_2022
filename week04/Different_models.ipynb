{
 "cells": [
  {
   "cell_type": "code",
   "execution_count": null,
   "metadata": {
    "executionInfo": {
     "elapsed": 696,
     "status": "ok",
     "timestamp": 1632317671463,
     "user": {
      "displayName": "иван иванов",
      "photoUrl": "https://lh3.googleusercontent.com/a/default-user=s64",
      "userId": "02926776193083975428"
     },
     "user_tz": -180
    },
    "id": "feeB7xwujYag"
   },
   "outputs": [],
   "source": [
    "import torch\n",
    "import torch.nn as nn\n",
    "import torchvision.transforms as transforms\n",
    "import torchvision.datasets as dsets\n",
    "from torch.autograd import Variable\n",
    "\n",
    "# Set seed\n",
    "torch.manual_seed(0)\n",
    "\n",
    "# Scheduler import\n",
    "from torch.optim.lr_scheduler import StepLR\n",
    "import matplotlib.pyplot as plt\n",
    "import numpy as np\n",
    "%matplotlib inline"
   ]
  },
  {
   "cell_type": "code",
   "execution_count": null,
   "metadata": {
    "colab": {
     "base_uri": "https://localhost:8080/"
    },
    "executionInfo": {
     "elapsed": 29,
     "status": "ok",
     "timestamp": 1632317671464,
     "user": {
      "displayName": "иван иванов",
      "photoUrl": "https://lh3.googleusercontent.com/a/default-user=s64",
      "userId": "02926776193083975428"
     },
     "user_tz": -180
    },
    "id": "QZzo8z_qjv16",
    "outputId": "10cd76e1-8f1e-40f5-c764-75ebb1f9971e"
   },
   "outputs": [],
   "source": [
    "'''\n",
    "STEP 1: LOADING DATASET\n",
    "'''\n",
    "\n",
    "train_dataset = dsets.MNIST(root='./data', \n",
    "                            train=True, \n",
    "                            transform=transforms.ToTensor(),\n",
    "                            download=True)\n",
    "\n",
    "test_dataset = dsets.MNIST(root='./data', \n",
    "                           train=False, \n",
    "                           transform=transforms.ToTensor())\n",
    "class_names = train_dataset.classes # забираем метки классов"
   ]
  },
  {
   "cell_type": "code",
   "execution_count": null,
   "metadata": {},
   "outputs": [],
   "source": [
    "# отрисуем все что у нас есть\n",
    "cols = 8\n",
    "rows = 2\n",
    "fig = plt.figure(figsize=(2 * cols, 2.5 * rows))\n",
    "for i in range(cols):\n",
    "    for j in range(rows):\n",
    "        random_index = np.random.randint(0, len(train_dataset))\n",
    "        ax = fig.add_subplot(rows, cols, i * rows + j + 1)\n",
    "        ax.grid(False)\n",
    "        ax.set_xticks([])\n",
    "        ax.set_yticks([])\n",
    "        ax.imshow(train_dataset[random_index][0][0])\n",
    "        ax.set_xlabel(class_names[train_dataset[random_index][1]])\n",
    "plt.show()"
   ]
  },
  {
   "cell_type": "code",
   "execution_count": null,
   "metadata": {
    "executionInfo": {
     "elapsed": 28,
     "status": "ok",
     "timestamp": 1632317671465,
     "user": {
      "displayName": "иван иванов",
      "photoUrl": "https://lh3.googleusercontent.com/a/default-user=s64",
      "userId": "02926776193083975428"
     },
     "user_tz": -180
    },
    "id": "NlUkSjwrjzWJ"
   },
   "outputs": [],
   "source": [
    "'''\n",
    "STEP 2: MAKING DATASET ITERABLE\n",
    "'''\n",
    "\n",
    "#.....#"
   ]
  },
  {
   "cell_type": "code",
   "execution_count": null,
   "metadata": {
    "executionInfo": {
     "elapsed": 22,
     "status": "ok",
     "timestamp": 1632317672312,
     "user": {
      "displayName": "иван иванов",
      "photoUrl": "https://lh3.googleusercontent.com/a/default-user=s64",
      "userId": "02926776193083975428"
     },
     "user_tz": -180
    },
    "id": "VMoQXscbj1jV"
   },
   "outputs": [],
   "source": [
    "'''\n",
    "STEP 3: CREATE MODEL CLASS\n",
    "'''\n",
    "# Давайте прикинем какую архитектуру нам было бы неплохо сделать для данных\n",
    "# и соберем сам класс модельки\n",
    "\n",
    "class FeedforwardNeuralNetModel(nn.Module):\n",
    "    pass\n"
   ]
  },
  {
   "cell_type": "code",
   "execution_count": null,
   "metadata": {
    "executionInfo": {
     "elapsed": 21,
     "status": "ok",
     "timestamp": 1632317672313,
     "user": {
      "displayName": "иван иванов",
      "photoUrl": "https://lh3.googleusercontent.com/a/default-user=s64",
      "userId": "02926776193083975428"
     },
     "user_tz": -180
    },
    "id": "Ui7hsuHHj3vk"
   },
   "outputs": [],
   "source": [
    "'''\n",
    "STEP 4: INSTANTIATE BASE PARAMETERS\n",
    "'''\n"
   ]
  },
  {
   "cell_type": "code",
   "execution_count": null,
   "metadata": {
    "executionInfo": {
     "elapsed": 20,
     "status": "ok",
     "timestamp": 1632317672313,
     "user": {
      "displayName": "иван иванов",
      "photoUrl": "https://lh3.googleusercontent.com/a/default-user=s64",
      "userId": "02926776193083975428"
     },
     "user_tz": -180
    },
    "id": "0EsRaDJXj5ww"
   },
   "outputs": [],
   "source": [
    "'''\n",
    "STEP 5: INSTANTIATE LOSS CLASS\n",
    "'''\n"
   ]
  },
  {
   "cell_type": "code",
   "execution_count": null,
   "metadata": {
    "executionInfo": {
     "elapsed": 20,
     "status": "ok",
     "timestamp": 1632317672314,
     "user": {
      "displayName": "иван иванов",
      "photoUrl": "https://lh3.googleusercontent.com/a/default-user=s64",
      "userId": "02926776193083975428"
     },
     "user_tz": -180
    },
    "id": "SZBW9VhAj5zb"
   },
   "outputs": [],
   "source": [
    "'''\n",
    "STEP 6: INSTANTIATE OPTIMIZER CLASS\n",
    "'''\n"
   ]
  },
  {
   "cell_type": "code",
   "execution_count": null,
   "metadata": {
    "executionInfo": {
     "elapsed": 19,
     "status": "ok",
     "timestamp": 1632317672315,
     "user": {
      "displayName": "иван иванов",
      "photoUrl": "https://lh3.googleusercontent.com/a/default-user=s64",
      "userId": "02926776193083975428"
     },
     "user_tz": -180
    },
    "id": "Z0kbBY_IjgOJ"
   },
   "outputs": [],
   "source": [
    "'''\n",
    "STEP 7: TRAIN THE MODEL\n",
    "'''\n"
   ]
  },
  {
   "cell_type": "markdown",
   "metadata": {
    "id": "Ob0e_jsnpKzy"
   },
   "source": [
    "## Рубрика эксперименты"
   ]
  },
  {
   "cell_type": "code",
   "execution_count": null,
   "metadata": {
    "colab": {
     "base_uri": "https://localhost:8080/"
    },
    "executionInfo": {
     "elapsed": 31740,
     "status": "ok",
     "timestamp": 1632317704037,
     "user": {
      "displayName": "иван иванов",
      "photoUrl": "https://lh3.googleusercontent.com/a/default-user=s64",
      "userId": "02926776193083975428"
     },
     "user_tz": -180
    },
    "id": "evQsgeH9sw2u",
    "outputId": "2e4e71fc-af99-4b28-94b0-220a50ef6256"
   },
   "outputs": [],
   "source": [
    "# наша базовая моделька"
   ]
  },
  {
   "cell_type": "code",
   "execution_count": null,
   "metadata": {},
   "outputs": [],
   "source": [
    "# А что будет если не нормировать данные?"
   ]
  },
  {
   "cell_type": "code",
   "execution_count": null,
   "metadata": {},
   "outputs": [],
   "source": [
    "# А теперь давайте сделаем 6ти слойного монстра по 100 нейронов в каждом слое и в каждом слое по sigmoid"
   ]
  },
  {
   "cell_type": "code",
   "execution_count": null,
   "metadata": {},
   "outputs": [],
   "source": [
    "# давайте посмотрим что внутри нашей сети получается? (потыкаем в методы и всякое такое подобное)"
   ]
  },
  {
   "cell_type": "markdown",
   "metadata": {},
   "source": [
    " ## Игрища с иницализацией "
   ]
  },
  {
   "cell_type": "code",
   "execution_count": null,
   "metadata": {},
   "outputs": [],
   "source": [
    "# предлагаю дома посмотреть на результаты подобных игрищ"
   ]
  },
  {
   "cell_type": "markdown",
   "metadata": {
    "id": "JjFwvc0bpPP2"
   },
   "source": [
    "## Sigmoid + Xavier\n"
   ]
  },
  {
   "cell_type": "markdown",
   "metadata": {
    "id": "eEAo35ujpJLA"
   },
   "source": [
    "## Tanh + Xavier\n"
   ]
  },
  {
   "cell_type": "markdown",
   "metadata": {
    "id": "Lwd-6YU-o_GF"
   },
   "source": [
    "## ReLU + He\n"
   ]
  },
  {
   "cell_type": "markdown",
   "metadata": {
    "id": "QPXZvg9ko_dg"
   },
   "source": [
    "## Sigmoid + He\n"
   ]
  },
  {
   "cell_type": "markdown",
   "metadata": {
    "id": "_8vADfkdo_1c"
   },
   "source": [
    "## Tanh + He\n"
   ]
  },
  {
   "cell_type": "markdown",
   "metadata": {
    "id": "D3YnfPv9uIuJ"
   },
   "source": [
    "[Можно почитать про инициализацию](https://www.deeplearningwizard.com/deep_learning/boosting_models_pytorch/weight_initialization_activation_functions/) ноутбука"
   ]
  },
  {
   "cell_type": "code",
   "execution_count": null,
   "metadata": {
    "id": "46Rhw8wjuQJc"
   },
   "outputs": [],
   "source": []
  }
 ],
 "metadata": {
  "colab": {
   "authorship_tag": "ABX9TyNW2exhyEfSZKrvqOLoJ/Ed",
   "collapsed_sections": [],
   "name": "Weight_initialization.ipynb",
   "provenance": []
  },
  "kernelspec": {
   "display_name": "Python 3",
   "language": "python",
   "name": "python3"
  },
  "language_info": {
   "codemirror_mode": {
    "name": "ipython",
    "version": 3
   },
   "file_extension": ".py",
   "mimetype": "text/x-python",
   "name": "python",
   "nbconvert_exporter": "python",
   "pygments_lexer": "ipython3",
   "version": "3.7.3"
  }
 },
 "nbformat": 4,
 "nbformat_minor": 1
}
